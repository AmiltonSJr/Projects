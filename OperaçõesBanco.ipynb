{
  "nbformat": 4,
  "nbformat_minor": 0,
  "metadata": {
    "colab": {
      "provenance": [],
      "authorship_tag": "ABX9TyNwcNAWZSeWafNsO5LcQgJR",
      "include_colab_link": true
    },
    "kernelspec": {
      "name": "python3",
      "display_name": "Python 3"
    },
    "language_info": {
      "name": "python"
    }
  },
  "cells": [
    {
      "cell_type": "markdown",
      "metadata": {
        "id": "view-in-github",
        "colab_type": "text"
      },
      "source": [
        "<a href=\"https://colab.research.google.com/github/AmiltonSJr/Projects/blob/main/Opera%C3%A7%C3%B5esBanco.ipynb\" target=\"_parent\"><img src=\"https://colab.research.google.com/assets/colab-badge.svg\" alt=\"Open In Colab\"/></a>"
      ]
    },
    {
      "cell_type": "code",
      "execution_count": null,
      "metadata": {
        "colab": {
          "base_uri": "https://localhost:8080/"
        },
        "id": "32cc85yFEGZT",
        "outputId": "d77cf205-cc04-442c-a401-931b64c35978"
      },
      "outputs": [
        {
          "output_type": "stream",
          "name": "stdout",
          "text": [
            "Saldo em conta R$:0\n",
            "Escolha uma Operação\n",
            "1. Depósito\n",
            "2. Saque\n",
            "3. Saldo\n",
            "4. Sair\n",
            "Digite uma operação. 1, 2, 3, 4: 1\n",
            "Digite o valor do seu depósito: 9999\n",
            "Saldo em conta: R$9999,00\n",
            "Escolha uma Operação\n",
            "1. Depósito\n",
            "2. Saque\n",
            "3. Saldo\n",
            "4. Sair\n",
            "Digite uma operação. 1, 2, 3, 4: 3\n",
            "Saldo R$:  9999.00\n",
            "Escolha uma Operação\n",
            "1. Depósito\n",
            "2. Saque\n",
            "3. Saldo\n",
            "4. Sair\n"
          ]
        }
      ],
      "source": [
        "saldo_conta = 0\n",
        "print(f'Saldo em conta R$:{saldo_conta}')\n",
        "\n",
        "while True:\n",
        "    print('Escolha uma Operação')\n",
        "    print('1. Depósito')\n",
        "    print('2. Saque')\n",
        "    print('3. Saldo')\n",
        "    print('4. Sair')\n",
        "\n",
        "    escolha = input('Digite uma operação. 1, 2, 3, 4: ')\n",
        "\n",
        "    if escolha == '1':\n",
        "        valor = float(input('Digite o valor do seu depósito: '))\n",
        "        saldo_conta = valor\n",
        "        print(f'Saldo em conta: R${saldo_conta:.2f}'.replace('.', ','))\n",
        "\n",
        "    elif escolha == '2':\n",
        "        saque_valor = float(input('Digite o valor a ser sacado: '))\n",
        "\n",
        "        if saque_valor > saldo_conta:\n",
        "            print('Saldo insuficiente!')\n",
        "        else:\n",
        "            print('Confirmar saque?')\n",
        "            print('1. Sim')\n",
        "            print('2. Não')\n",
        "            confirmar = input('Escolha uma opção: ')\n",
        "            if confirmar == '1':\n",
        "                saldo_conta -= saque_valor\n",
        "                print(f'Saque de R$ {saque_valor:.2f} realizado com sucesso.')\n",
        "                print(f'Saldo atual: R$ {saldo_conta:.2f}'.replace('.',','))\n",
        "            else:\n",
        "                print('Saque cancelado.')\n",
        "    elif escolha =='3':\n",
        "      print(f'Saldo R$: {saldo_conta: .2f}')\n",
        "\n",
        "    elif escolha == '4':\n",
        "        print(\"Sessão finalizada\")\n",
        "        break\n"
      ]
    },
    {
      "cell_type": "code",
      "source": [
        "\n"
      ],
      "metadata": {
        "id": "CMFc2p9tEKP_"
      },
      "execution_count": null,
      "outputs": []
    }
  ]
}